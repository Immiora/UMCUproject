{
 "cells": [
  {
   "cell_type": "code",
   "execution_count": 1,
   "id": "2dbc0b5a-d2dd-4a94-afad-de99743d7ff9",
   "metadata": {},
   "outputs": [],
   "source": [
    "import os"
   ]
  },
  {
   "cell_type": "code",
   "execution_count": 2,
   "id": "adbecf67-0716-4ecb-bc5b-56c92a509986",
   "metadata": {},
   "outputs": [],
   "source": [
    "directory = 'data/Data/F1/trans'\n",
    "word_timestamps = []\n",
    "\n",
    "for filename in sorted(os.listdir(directory)):\n",
    "    f = os.path.join(directory, filename)\n",
    "\n",
    "    with open(f, 'r') as tag_file:\n",
    "        lines = tag_file.read().splitlines()\n",
    "        counter = -1\n",
    "        for x in range(len(lines)-1):\n",
    "            # skips over the silences and phonemes that are not linked to a word (n=126)\n",
    "            if (lines[x].split(',')[2] == 'sil') | (lines[x].split(',')[3] == ''):\n",
    "                continue\n",
    "            \n",
    "            word = lines[x].split(',')[3]\n",
    "            counter += 1\n",
    "            if lines[x+1].split(',')[3] != word:\n",
    "                # counts back to the first phoneme of current word to set start time\n",
    "                start_time = lines[x-counter].split(',')[0]\n",
    "                counter = -1\n",
    "                result = [ word, start_time, lines[x].split(',')[1] ]\n",
    "                word_timestamps.append(result)"
   ]
  },
  {
   "cell_type": "code",
   "execution_count": 3,
   "id": "a40341e2-3088-444e-88df-7032ccf1693b",
   "metadata": {},
   "outputs": [
    {
     "name": "stdout",
     "output_type": "stream",
     "text": [
      "1834\n"
     ]
    }
   ],
   "source": [
    "all_words = []\n",
    "for x in range(len(word_timestamps)):\n",
    "    word = word_timestamps[x][0]\n",
    "    all_words.append(word)\n",
    "\n",
    "unique_words = set(all_words)\n",
    "print(len(unique_words))"
   ]
  },
  {
   "cell_type": "code",
   "execution_count": 4,
   "id": "96c11a9e-54b0-4a72-9597-e2fafc2a49fc",
   "metadata": {},
   "outputs": [],
   "source": [
    "with open('timestamps.txt', 'w') as file:\n",
    "    for word_plus_time in word_timestamps:\n",
    "        counter = 1\n",
    "        for elements in word_plus_time:\n",
    "            if counter%3 == 0:\n",
    "                file.write(elements + '\\n')  \n",
    "                counter += 1\n",
    "                continue\n",
    "                \n",
    "            file.write(elements + ',')\n",
    "            counter += 1"
   ]
  },
  {
   "cell_type": "code",
   "execution_count": null,
   "id": "057f651e-3bdc-4043-8405-d93d65f58d86",
   "metadata": {},
   "outputs": [],
   "source": []
  }
 ],
 "metadata": {
  "kernelspec": {
   "display_name": "Python 3 (ipykernel)",
   "language": "python",
   "name": "python3"
  },
  "language_info": {
   "codemirror_mode": {
    "name": "ipython",
    "version": 3
   },
   "file_extension": ".py",
   "mimetype": "text/x-python",
   "name": "python",
   "nbconvert_exporter": "python",
   "pygments_lexer": "ipython3",
   "version": "3.8.11"
  }
 },
 "nbformat": 4,
 "nbformat_minor": 5
}
