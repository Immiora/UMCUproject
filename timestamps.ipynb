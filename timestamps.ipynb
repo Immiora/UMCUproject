{
 "cells": [
  {
   "cell_type": "code",
   "execution_count": 2,
   "id": "2dbc0b5a-d2dd-4a94-afad-de99743d7ff9",
   "metadata": {},
   "outputs": [],
   "source": [
    "import os"
   ]
  },
  {
   "cell_type": "code",
   "execution_count": 57,
   "id": "adbecf67-0716-4ecb-bc5b-56c92a509986",
   "metadata": {},
   "outputs": [],
   "source": [
    "directory = 'data/Data/F1/trans'\n",
    "word_timestamps = []\n",
    "\n",
    "for filename in sorted(os.listdir(directory)):\n",
    "    f = os.path.join(directory, filename)\n",
    "\n",
    "    with open(f, 'r') as tag_file:\n",
    "        lines = tag_file.read().splitlines()\n",
    "        counter = -1\n",
    "        for x in range(len(lines) -1 ):\n",
    "            if lines[x].split(',')[2] == 'sil':\n",
    "                continue\n",
    "            \n",
    "            word = lines[x].split(',')[3]\n",
    "            counter += 1\n",
    "            if lines[x+1].split(',')[3] != word:\n",
    "                start_time = lines[x-counter].split(',')[0]\n",
    "                counter = -1\n",
    "                result = [ word, start_time, lines[x].split(',')[1] ]\n",
    "                word_timestamps.append(result)\n",
    "            \n"
   ]
  },
  {
   "cell_type": "code",
   "execution_count": 61,
   "id": "356acb06-3755-4085-9fc3-faf43f09f17d",
   "metadata": {},
   "outputs": [
    {
     "name": "stdout",
     "output_type": "stream",
     "text": [
      "3607\n"
     ]
    }
   ],
   "source": [
    "print(len(word_timestamps))"
   ]
  },
  {
   "cell_type": "code",
   "execution_count": 66,
   "id": "a40341e2-3088-444e-88df-7032ccf1693b",
   "metadata": {},
   "outputs": [],
   "source": [
    "all_words = []\n",
    "for x in range(len(word_timestamps)):\n",
    "    word = word_timestamps[x][0]\n",
    "    all_words.append(word)\n",
    "\n",
    "unique_words = set(all_words)"
   ]
  },
  {
   "cell_type": "code",
   "execution_count": 67,
   "id": "b1582216-b1a7-4580-b4aa-89346d93c72e",
   "metadata": {},
   "outputs": [
    {
     "name": "stdout",
     "output_type": "stream",
     "text": [
      "1835\n"
     ]
    }
   ],
   "source": [
    "print(len(unique_words))"
   ]
  },
  {
   "cell_type": "code",
   "execution_count": null,
   "id": "96c11a9e-54b0-4a72-9597-e2fafc2a49fc",
   "metadata": {},
   "outputs": [],
   "source": []
  }
 ],
 "metadata": {
  "kernelspec": {
   "display_name": "Python 3 (ipykernel)",
   "language": "python",
   "name": "python3"
  },
  "language_info": {
   "codemirror_mode": {
    "name": "ipython",
    "version": 3
   },
   "file_extension": ".py",
   "mimetype": "text/x-python",
   "name": "python",
   "nbconvert_exporter": "python",
   "pygments_lexer": "ipython3",
   "version": "3.8.11"
  }
 },
 "nbformat": 4,
 "nbformat_minor": 5
}
