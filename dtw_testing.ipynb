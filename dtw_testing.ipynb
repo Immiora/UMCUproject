{
 "cells": [
  {
   "cell_type": "code",
   "execution_count": 1,
   "id": "ec9b122c-42a3-45cb-999b-04ead2a74e09",
   "metadata": {},
   "outputs": [],
   "source": [
    "import scipy.io, math, os\n",
    "import pandas as pd, numpy as np\n",
    "import matplotlib.pyplot as plt\n",
    "import matplotlib.animation as FuncAnimation\n",
    "from mpl_toolkits.mplot3d import Axes3D\n",
    "from utils import *"
   ]
  },
  {
   "cell_type": "code",
   "execution_count": 39,
   "id": "4821114a-c023-4fbe-b21d-d8903dc86e62",
   "metadata": {},
   "outputs": [],
   "source": [
    "from tslearn.barycenters import \\\n",
    "    euclidean_barycenter, \\\n",
    "    dtw_barycenter_averaging, \\\n",
    "    dtw_barycenter_averaging_subgradient, \\\n",
    "    softdtw_barycenter\n",
    "from tslearn.datasets import CachedDatasets\n",
    "import dtw\n",
    "from scipy.spatial.distance import euclidean"
   ]
  },
  {
   "cell_type": "code",
   "execution_count": 3,
   "id": "36ed862c-0285-4899-96a5-28fc9d8afa0e",
   "metadata": {},
   "outputs": [],
   "source": [
    "def get_pos_list(position, dimension, file_number, starting_point, end_point):\n",
    "    values = []\n",
    "    if dimension == 'x':\n",
    "        dim = 0\n",
    "    elif dimension == 'y':\n",
    "        dim = 1 \n",
    "    elif dimension == 'z':\n",
    "        dim = 2\n",
    "    else:\n",
    "        raise ValueError\n",
    "\n",
    "    if position == 'UL':\n",
    "        for i in range(end_point - starting_point):\n",
    "            coordinate = (UL_df[file_number][dim][starting_point + i])\n",
    "            if str(coordinate) != 'nan':\n",
    "                values.append(coordinate)\n",
    "            \n",
    "    if position == 'LL':\n",
    "        for i in range(end_point - starting_point):\n",
    "            coordinate = (LL_df[file_number][dim][starting_point + i])\n",
    "            if str(coordinate) != 'nan':\n",
    "                values.append(coordinate)\n",
    "            \n",
    "    if position == 'JW':\n",
    "        for i in range(end_point - starting_point):\n",
    "            coordinate = (JW_df[file_number][dim][starting_point + i])\n",
    "            if str(coordinate) != 'nan':\n",
    "                values.append(coordinate)\n",
    "            \n",
    "    if position == 'TB':\n",
    "        for i in range(end_point - starting_point):\n",
    "            coordinate = (TB_df[file_number][dim][starting_point + i])\n",
    "            if str(coordinate) != 'nan':\n",
    "                values.append(coordinate)\n",
    "            \n",
    "    if position == 'TD':\n",
    "        for i in range(end_point - starting_point):\n",
    "            coordinate = (TD_df[file_number][dim][starting_point + i])\n",
    "            if str(coordinate) != 'nan':\n",
    "                values.append(coordinate)\n",
    "            \n",
    "    if position == 'TT':\n",
    "        for i in range(end_point - starting_point):\n",
    "            coordinate = (TT_df[file_number][dim][starting_point + i])\n",
    "            if str(coordinate) != 'nan':\n",
    "                values.append(coordinate)\n",
    "        \n",
    "    return values"
   ]
  },
  {
   "cell_type": "code",
   "execution_count": 70,
   "id": "e126e5cd-f88b-4825-a9da-24395b0c43f6",
   "metadata": {},
   "outputs": [],
   "source": [
    "# function to find the dtw barycenter average\n",
    "def plot_dba(word, position, gamma_val=2, only_plot_dba=False):\n",
    "    indexes = word_instances[word]\n",
    "    all_values = []\n",
    "    \n",
    "    for number in indexes:\n",
    "        #plot the originial trajectories\n",
    "        if not only_plot_dba:\n",
    "            plt.plot(frames[number][position][0], label = str(number))\n",
    "        \n",
    "        # create a list of the trajectories for the dba\n",
    "        all_values.append(frames[number][position][0])\n",
    "        filtered_values = [x for x in all_values if x != []]\n",
    "        \n",
    "    dba_soft = softdtw_barycenter(filtered_values, gamma=gamma_val)\n",
    "    # dba      = dtw_barycenter_averaging(filtered_values)\n",
    "    \n",
    "    plt.plot(dba_soft, label = 'dba soft', linestyle = 'dashed')\n",
    "    # plt.plot(dba, label = 'dba', linestyle = 'dashed')\n",
    "    plt.plot(UL, label = 'custom_dba', linestyle = 'dotted')\n",
    "    \n",
    "    plt.title(word)\n",
    "    plt.legend()\n",
    "    plt.show()"
   ]
  },
  {
   "cell_type": "code",
   "execution_count": 5,
   "id": "0384fc14-5f71-48b4-87cf-c3316b936363",
   "metadata": {},
   "outputs": [],
   "source": [
    "def get_dba(word, position, gamma_val=1):\n",
    "    indexes = word_instances[word]\n",
    "    all_values = []\n",
    "    \n",
    "    for number in indexes:\n",
    "        \n",
    "        # create a list of the trajectories for the dba\n",
    "        all_values.append(frames[number][position][0])\n",
    "        filtered_values = [x for x in all_values if x != []]\n",
    "        \n",
    "    dba_soft = softdtw_barycenter(filtered_values, gamma=gamma_val)\n",
    "    dba      = dtw_barycenter_averaging(filtered_values)\n",
    "    \n",
    "    return dba_soft"
   ]
  },
  {
   "cell_type": "code",
   "execution_count": 6,
   "id": "4cc2ba30-d302-49a1-8e12-0589624ebd0c",
   "metadata": {},
   "outputs": [],
   "source": [
    "directory = 'data/Data/F1/mat'\n",
    "counter = 1\n",
    "UL_df, LL_df, JW_df, TD_df, TB_df, TT_df = [], [], [], [], [], []\n",
    "\n",
    "for filename in sorted(os.listdir(directory)):\n",
    "    if filename.endswith('.mat'):\n",
    "        f = os.path.join(directory, filename)\n",
    "        mat = scipy.io.loadmat(f)\n",
    "        # takes the data that is stored at the key that precedes the data for each .mat file\n",
    "        data = mat['usctimit_ema_f1_{:03}_{:03}'.format(counter, counter + 4)]\n",
    "        counter += 5\n",
    "\n",
    "        # make dataframes of the six positions\n",
    "        UL_df.append(pd.DataFrame.from_dict(data[0][1][2]))\n",
    "        LL_df.append(pd.DataFrame.from_dict(data[0][2][2]))\n",
    "        JW_df.append(pd.DataFrame.from_dict(data[0][3][2]))\n",
    "        TD_df.append(pd.DataFrame.from_dict(data[0][4][2]))\n",
    "        TB_df.append(pd.DataFrame.from_dict(data[0][5][2]))\n",
    "        TT_df.append(pd.DataFrame.from_dict(data[0][6][2]))"
   ]
  },
  {
   "cell_type": "code",
   "execution_count": 7,
   "id": "de3874a2-c6a3-4a7c-b1f2-121cd4abb793",
   "metadata": {},
   "outputs": [],
   "source": [
    "frames = {}\n",
    "\n",
    "with open('timestamps.txt', 'r') as file:\n",
    "    timestamps = file.read().splitlines()\n",
    "    for word_number, line in enumerate(timestamps):\n",
    "        split_line = line.split(',')\n",
    "        sent_number = int(split_line[-1])\n",
    "        \n",
    "        # find start and end by multiplying the timestamps with the sampling rate\n",
    "        starting_point = math.floor(float(split_line[2]) * get_srate(int(split_line[0])))\n",
    "        end_point = math.ceil(float(split_line[3]) * get_srate(int(split_line[0])))\n",
    "        \n",
    "        # make dataframe for each word, so 3481 dataframes\n",
    "        # this is different from the one in main.ipynb, since it looks at x an y seperately, and \n",
    "        # ignores the z values. still need to properly motivate this.\n",
    "        # TODO: make this more efficient \n",
    "        data = {'word' : [split_line[1]],\n",
    "                'srate': [get_srate(int(split_line[0]))],\n",
    "                'sent' : [int(split_line[-1])],\n",
    "                'ULx'  : [get_pos_list('UL', 'x', int(split_line[0]), starting_point, end_point)],\n",
    "                'ULy'  : [get_pos_list('UL', 'y', int(split_line[0]), starting_point, end_point)],\n",
    "                'LLx'  : [get_pos_list('LL', 'x', int(split_line[0]), starting_point, end_point)],\n",
    "                'LLy'  : [get_pos_list('LL', 'y', int(split_line[0]), starting_point, end_point)],\n",
    "                'JWx'  : [get_pos_list('JW', 'x', int(split_line[0]), starting_point, end_point)],\n",
    "                'JWy'  : [get_pos_list('JW', 'y', int(split_line[0]), starting_point, end_point)],\n",
    "                'TDx'  : [get_pos_list('TD', 'x', int(split_line[0]), starting_point, end_point)],\n",
    "                'TDy'  : [get_pos_list('TD', 'y', int(split_line[0]), starting_point, end_point)],\n",
    "                'TBx'  : [get_pos_list('TB', 'x', int(split_line[0]), starting_point, end_point)],\n",
    "                'TBy'  : [get_pos_list('TB', 'y', int(split_line[0]), starting_point, end_point)],\n",
    "                'TTx'  : [get_pos_list('TT', 'x', int(split_line[0]), starting_point, end_point)],\n",
    "                'TTy'  : [get_pos_list('TT', 'y', int(split_line[0]), starting_point, end_point)]}\n",
    "        \n",
    "        df = pd.DataFrame(data)\n",
    "        frames[word_number] = df"
   ]
  },
  {
   "cell_type": "code",
   "execution_count": 8,
   "id": "fda75b93-b5e1-40c2-9116-074ff85d7a10",
   "metadata": {},
   "outputs": [],
   "source": [
    "word_instances = {}\n",
    "\n",
    "for frame in frames:\n",
    "    # continues if the instances of this word have already been found\n",
    "    if frames[frame]['word'][0] in word_instances:\n",
    "        continue\n",
    "    \n",
    "    # saves all the key numbers of instances of the words\n",
    "    word_instances[frames[frame]['word'][0]] = get_key(frames[frame]['word'][0], frames)"
   ]
  },
  {
   "cell_type": "code",
   "execution_count": 10,
   "id": "ff33a2d6-d556-4a08-ae78-7465b8f158a0",
   "metadata": {},
   "outputs": [],
   "source": [
    "np.warnings.filterwarnings('ignore', category=np.VisibleDeprecationWarning)"
   ]
  },
  {
   "cell_type": "code",
   "execution_count": 31,
   "id": "7c0bf782-37cd-4621-8311-41663bec0168",
   "metadata": {},
   "outputs": [],
   "source": [
    "frames_after_dtw = {}\n",
    "word_list = []\n",
    "# sensors = ['ULx', 'ULy', 'LLx', 'LLy', 'JWx', 'JWy', 'TDx', 'TDy', 'TBx', 'TBy', 'TTx', 'TTy']\n",
    "\n",
    "for key, value in frames.items():\n",
    "    word = value['word'][0]\n",
    "    \n",
    "    if word not in word_list:\n",
    "        # TODO: make this more efficient \n",
    "        # for sensor in sensors:\n",
    "        #     data = {}\n",
    "        #     data[sensor] = get_dba(word, sensor)\n",
    "        data = {'ULx'  : [get_dba(word, 'ULx')],\n",
    "                'ULy'  : [get_dba(word, 'ULy')],\n",
    "                'LLx'  : [get_dba(word, 'LLx')],\n",
    "                'LLy'  : [get_dba(word, 'LLy')],\n",
    "                'JWx'  : [get_dba(word, 'JWx')],\n",
    "                'JWy'  : [get_dba(word, 'JWy')],\n",
    "                'TDx'  : [get_dba(word, 'TDx')],\n",
    "                'TDy'  : [get_dba(word, 'TDy')],\n",
    "                'TBx'  : [get_dba(word, 'TBx')],\n",
    "                'TBy'  : [get_dba(word, 'TBy')],\n",
    "                'TTx'  : [get_dba(word, 'TTx')],\n",
    "                'TTy'  : [get_dba(word, 'TTy')]}\n",
    "    \n",
    "        df = pd.DataFrame(data)\n",
    "        frames_after_dtw[word] = df\n",
    "        word_list.append(word)    "
   ]
  },
  {
   "cell_type": "code",
   "execution_count": 101,
   "id": "046d3ace-5c1c-4121-9700-a2eab9625562",
   "metadata": {},
   "outputs": [],
   "source": [
    "def get_custom_dba(word):\n",
    "    repetitions = {}\n",
    "    indexes = word_instances[word]\n",
    "    \n",
    "    for i, index in enumerate(indexes):\n",
    "        x = []\n",
    "        for sensor in ['UL', 'LL', 'JW', 'TD', 'TB', 'TT']:\n",
    "            x.append(np.stack([frames[index][sensor+'x'][0],frames[index][sensor+'y'][0]])) \n",
    "        # 0:ULx, 1:ULy, 2:LLx, 3:LLy etc\n",
    "        x = np.concatenate(x).T\n",
    "        repetitions[i] = x\n",
    "    \n",
    "    if len(repetitions) == 1:\n",
    "        return repetitions[0]\n",
    "    \n",
    "    new_signals = {}\n",
    "    dist, cost_matrix, acc_cost_matrix, path = dtw.accelerated_dtw(repetitions[0], repetitions[1], dist=euclidean)\n",
    "    new_signals[0] = repetitions[0][path[0]]\n",
    "    new_signals[1] = repetitions[1][path[0]]\n",
    "    \n",
    "    for i in range(2, len(repetitions)):\n",
    "        dist, cost_matrix, acc_cost_matrix, path = dtw.accelerated_dtw(repetitions[i], new_signals[i-1], dist=euclidean)\n",
    "        new_signals[i]   = repetitions[i][path[0]]\n",
    "        new_signals[i+1] = repetitions[i+1][path[0]]\n",
    "        \n",
    "    return new_signals"
   ]
  },
  {
   "cell_type": "code",
   "execution_count": 102,
   "id": "92a7f7a6-9cbc-4466-a650-026bc20579b1",
   "metadata": {},
   "outputs": [
    {
     "ename": "IndexError",
     "evalue": "index 25 is out of bounds for axis 0 with size 25",
     "output_type": "error",
     "traceback": [
      "\u001b[0;31m---------------------------------------------------------------------------\u001b[0m",
      "\u001b[0;31mIndexError\u001b[0m                                Traceback (most recent call last)",
      "\u001b[0;32m/var/folders/jz/414l_qjs6s1bndtz3ppcy8cc0000gn/T/ipykernel_96363/2229071354.py\u001b[0m in \u001b[0;36m<module>\u001b[0;34m\u001b[0m\n\u001b[0;32m----> 1\u001b[0;31m \u001b[0mget_custom_dba\u001b[0m\u001b[0;34m(\u001b[0m\u001b[0;34m'often'\u001b[0m\u001b[0;34m)\u001b[0m\u001b[0;34m\u001b[0m\u001b[0;34m\u001b[0m\u001b[0m\n\u001b[0m\u001b[1;32m      2\u001b[0m \u001b[0;31m# for i in range(len(often)):\u001b[0m\u001b[0;34m\u001b[0m\u001b[0;34m\u001b[0m\u001b[0m\n\u001b[1;32m      3\u001b[0m \u001b[0;31m#     print(len(often[i]))\u001b[0m\u001b[0;34m\u001b[0m\u001b[0;34m\u001b[0m\u001b[0m\n",
      "\u001b[0;32m/var/folders/jz/414l_qjs6s1bndtz3ppcy8cc0000gn/T/ipykernel_96363/2892017983.py\u001b[0m in \u001b[0;36mget_custom_dba\u001b[0;34m(word)\u001b[0m\n\u001b[1;32m     22\u001b[0m         \u001b[0mdist\u001b[0m\u001b[0;34m,\u001b[0m \u001b[0mcost_matrix\u001b[0m\u001b[0;34m,\u001b[0m \u001b[0macc_cost_matrix\u001b[0m\u001b[0;34m,\u001b[0m \u001b[0mpath\u001b[0m \u001b[0;34m=\u001b[0m \u001b[0mdtw\u001b[0m\u001b[0;34m.\u001b[0m\u001b[0maccelerated_dtw\u001b[0m\u001b[0;34m(\u001b[0m\u001b[0mrepetitions\u001b[0m\u001b[0;34m[\u001b[0m\u001b[0mi\u001b[0m\u001b[0;34m]\u001b[0m\u001b[0;34m,\u001b[0m \u001b[0mnew_signals\u001b[0m\u001b[0;34m[\u001b[0m\u001b[0mi\u001b[0m\u001b[0;34m-\u001b[0m\u001b[0;36m1\u001b[0m\u001b[0;34m]\u001b[0m\u001b[0;34m,\u001b[0m \u001b[0mdist\u001b[0m\u001b[0;34m=\u001b[0m\u001b[0meuclidean\u001b[0m\u001b[0;34m)\u001b[0m\u001b[0;34m\u001b[0m\u001b[0;34m\u001b[0m\u001b[0m\n\u001b[1;32m     23\u001b[0m         \u001b[0mnew_signals\u001b[0m\u001b[0;34m[\u001b[0m\u001b[0mi\u001b[0m\u001b[0;34m]\u001b[0m   \u001b[0;34m=\u001b[0m \u001b[0mrepetitions\u001b[0m\u001b[0;34m[\u001b[0m\u001b[0mi\u001b[0m\u001b[0;34m]\u001b[0m\u001b[0;34m[\u001b[0m\u001b[0mpath\u001b[0m\u001b[0;34m[\u001b[0m\u001b[0;36m0\u001b[0m\u001b[0;34m]\u001b[0m\u001b[0;34m]\u001b[0m\u001b[0;34m\u001b[0m\u001b[0;34m\u001b[0m\u001b[0m\n\u001b[0;32m---> 24\u001b[0;31m         \u001b[0mnew_signals\u001b[0m\u001b[0;34m[\u001b[0m\u001b[0mi\u001b[0m\u001b[0;34m+\u001b[0m\u001b[0;36m1\u001b[0m\u001b[0;34m]\u001b[0m \u001b[0;34m=\u001b[0m \u001b[0mrepetitions\u001b[0m\u001b[0;34m[\u001b[0m\u001b[0mi\u001b[0m\u001b[0;34m+\u001b[0m\u001b[0;36m1\u001b[0m\u001b[0;34m]\u001b[0m\u001b[0;34m[\u001b[0m\u001b[0mpath\u001b[0m\u001b[0;34m[\u001b[0m\u001b[0;36m0\u001b[0m\u001b[0;34m]\u001b[0m\u001b[0;34m]\u001b[0m\u001b[0;34m\u001b[0m\u001b[0;34m\u001b[0m\u001b[0m\n\u001b[0m\u001b[1;32m     25\u001b[0m \u001b[0;34m\u001b[0m\u001b[0m\n\u001b[1;32m     26\u001b[0m     \u001b[0;32mreturn\u001b[0m \u001b[0mnew_signals\u001b[0m\u001b[0;34m\u001b[0m\u001b[0;34m\u001b[0m\u001b[0m\n",
      "\u001b[0;31mIndexError\u001b[0m: index 25 is out of bounds for axis 0 with size 25"
     ]
    }
   ],
   "source": [
    "get_custom_dba('often')\n",
    "# for i in range(len(often)):\n",
    "#     print(len(often[i]))"
   ]
  },
  {
   "cell_type": "code",
   "execution_count": 63,
   "id": "5036637e-fa34-48a6-96ba-6af2bc8881c3",
   "metadata": {},
   "outputs": [
    {
     "data": {
      "text/plain": [
       "[<matplotlib.lines.Line2D at 0x7fd6f0146ca0>]"
      ]
     },
     "execution_count": 63,
     "metadata": {},
     "output_type": "execute_result"
    },
    {
     "data": {
      "image/png": "[encoded data removed]",
      "text/plain": [
       "<Figure size 432x288 with 1 Axes>"
      ]
     },
     "metadata": {
      "needs_background": "light"
     },
     "output_type": "display_data"
    }
   ],
   "source": [
    "rep1 = 62\n",
    "rep2 = 1608\n",
    "x1, x2 = [], []\n",
    "for sensor in ['UL', 'LL', 'JW', 'TD', 'TB', 'TT']:\n",
    "    x1.append(np.stack([frames[rep1][sensor+'x'][0],frames[rep1][sensor+'y'][0]]))\n",
    "    x2.append(np.stack([frames[rep2][sensor+'x'][0],frames[rep2][sensor+'y'][0]]))\n",
    "x1 = np.concatenate(x1).T # 0:ULx, 1:ULy, 2:LLx, 3:LLy etc\n",
    "x2 = np.concatenate(x2).T\n",
    "\n",
    "dist, cost_matrix, acc_cost_matrix, path = dtw.accelerated_dtw(x1, x2, dist=euclidean)\n",
    "# plt.imshow(acc_cost_matrix.T, origin='lower', cmap='gray', interpolation='nearest')\n",
    "# plt.plot(path[0], path[1], 'w')\n",
    "# plt.show()\n",
    "\n",
    "# print(dist)\n",
    "x1_new = x1[path[0]]\n",
    "x2_new = x2[path[1]]\n",
    "\n",
    "avg_trajectory= np.mean([x1_new, x2_new], axis=0)\n",
    "\n",
    "UL = []\n",
    "for values in avg_trajectory:\n",
    "    ULavg = values[0]\n",
    "    UL.append(ULavg)\n",
    "    \n",
    "plt.plot(UL)"
   ]
  },
  {
   "cell_type": "code",
   "execution_count": null,
   "id": "a4a2dd45-ceea-4c8d-82ee-742fddb10c63",
   "metadata": {},
   "outputs": [],
   "source": [
    "avg_trajectory= np.mean([x1_new, x2_new], axis=0)"
   ]
  },
  {
   "cell_type": "code",
   "execution_count": null,
   "id": "29030aa9-b301-4df5-a5bd-1f66e949b535",
   "metadata": {},
   "outputs": [],
   "source": []
  },
  {
   "cell_type": "code",
   "execution_count": 71,
   "id": "3bec313e-3587-4d50-8a12-4db96b36a38a",
   "metadata": {},
   "outputs": [
    {
     "data": {
      "image/png": "[encoded data removed]",
      "text/plain": [
       "<Figure size 432x288 with 1 Axes>"
      ]
     },
     "metadata": {
      "needs_background": "light"
     },
     "output_type": "display_data"
    }
   ],
   "source": [
    "plot_dba('yellow', 'ULx', only_plot_dba=False)"
   ]
  },
  {
   "cell_type": "code",
   "execution_count": null,
   "id": "4a535c45-c3c2-4a33-90f9-122cee521be8",
   "metadata": {},
   "outputs": [],
   "source": []
  },
  {
   "cell_type": "code",
   "execution_count": null,
   "id": "f8d54621-a180-49b5-9339-5ab2dc3033fd",
   "metadata": {},
   "outputs": [],
   "source": []
  },
  {
   "cell_type": "code",
   "execution_count": null,
   "id": "02edc094-fead-43a2-a513-a3a28ba888a1",
   "metadata": {},
   "outputs": [],
   "source": []
  }
 ],
 "metadata": {
  "kernelspec": {
   "display_name": "Python 3 (ipykernel)",
   "language": "python",
   "name": "python3"
  },
  "language_info": {
   "codemirror_mode": {
    "name": "ipython",
    "version": 3
   },
   "file_extension": ".py",
   "mimetype": "text/x-python",
   "name": "python",
   "nbconvert_exporter": "python",
   "pygments_lexer": "ipython3",
   "version": "3.9.7"
  }
 },
 "nbformat": 4,
 "nbformat_minor": 5
}
