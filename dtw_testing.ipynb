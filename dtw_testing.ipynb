{
 "cells": [
  {
   "cell_type": "code",
   "execution_count": 1,
   "id": "ec9b122c-42a3-45cb-999b-04ead2a74e09",
   "metadata": {},
   "outputs": [],
   "source": [
    "import scipy.io, math, os\n",
    "import pandas as pd, numpy as np\n",
    "import matplotlib.pyplot as plt\n",
    "import matplotlib.animation as FuncAnimation\n",
    "from mpl_toolkits.mplot3d import Axes3D"
   ]
  },
  {
   "cell_type": "code",
   "execution_count": 2,
   "id": "4821114a-c023-4fbe-b21d-d8903dc86e62",
   "metadata": {},
   "outputs": [],
   "source": [
    "from tslearn.barycenters import \\\n",
    "    euclidean_barycenter, \\\n",
    "    dtw_barycenter_averaging, \\\n",
    "    dtw_barycenter_averaging_subgradient, \\\n",
    "    softdtw_barycenter\n",
    "from tslearn.datasets import CachedDatasets"
   ]
  },
  {
   "cell_type": "code",
   "execution_count": 3,
   "id": "d22eaf38-b1cf-496f-9feb-84bb56674b11",
   "metadata": {},
   "outputs": [],
   "source": [
    "def get_srate(file_number):\n",
    "    directory = 'data/Data/F1/mat'\n",
    "    \n",
    "    # still needs to ignore the .DS_Store file in a better way\n",
    "    file = sorted(os.listdir(directory))[file_number + 1]\n",
    "    \n",
    "    f = os.path.join(directory, file)\n",
    "    mat = scipy.io.loadmat(f)['usctimit_ema_f1_{:03}_{:03}'.format(file_number*5 + 1, file_number*5 + 5)]\n",
    "    \n",
    "    #returns the srate which is stored here\n",
    "    return mat[0][1][1][0][0]"
   ]
  },
  {
   "cell_type": "code",
   "execution_count": 4,
   "id": "1b4e47de-a73a-409b-8ea5-bbf01707fa61",
   "metadata": {},
   "outputs": [],
   "source": [
    "def get_pos_list(position, dimension, file_number, starting_point, end_point):\n",
    "    values = []\n",
    "    if dimension == 'x':\n",
    "        dim = 0\n",
    "    elif dimension == 'y':\n",
    "        dim = 1 \n",
    "    elif dimension == 'z':\n",
    "        dim = 2\n",
    "\n",
    "    if position == 'UL':\n",
    "        for i in range(end_point - starting_point):\n",
    "            coordinate = (UL_df[file_number][dim][starting_point + i])\n",
    "            values.append(coordinate)\n",
    "            \n",
    "    if position == 'LL':\n",
    "        for i in range(end_point - starting_point):\n",
    "            coordinate = (LL_df[file_number][dim][starting_point + i])\n",
    "            values.append(coordinate)\n",
    "            \n",
    "    if position == 'JW':\n",
    "        for i in range(end_point - starting_point):\n",
    "            coordinate = (JW_df[file_number][dim][starting_point + i])\n",
    "            values.append(coordinate)\n",
    "            \n",
    "    if position == 'TB':\n",
    "        for i in range(end_point - starting_point):\n",
    "            coordinate = (TB_df[file_number][dim][starting_point + i])\n",
    "            values.append(coordinate)\n",
    "            \n",
    "    if position == 'TD':\n",
    "        for i in range(end_point - starting_point):\n",
    "            coordinate = (TD_df[file_number][dim][starting_point + i])\n",
    "            values.append(coordinate)\n",
    "            \n",
    "    if position == 'TT':\n",
    "        for i in range(end_point - starting_point):\n",
    "            coordinate = (TT_df[file_number][dim][starting_point + i])\n",
    "            values.append(coordinate)\n",
    "        \n",
    "    return values"
   ]
  },
  {
   "cell_type": "code",
   "execution_count": 31,
   "id": "6349ced5-3802-4929-8c10-46c84af6cc52",
   "metadata": {},
   "outputs": [],
   "source": [
    "def get_key(val, dictionary):\n",
    "    instances = []\n",
    "    \n",
    "    # retrieves the numbers of the instances of the word we are looking for in a list\n",
    "    for key, value in dictionary.items():\n",
    "        if val == value['word'][0]:\n",
    "            instances.append(key)\n",
    "    \n",
    "    return instances"
   ]
  },
  {
   "cell_type": "code",
   "execution_count": 5,
   "id": "4cc2ba30-d302-49a1-8e12-0589624ebd0c",
   "metadata": {},
   "outputs": [],
   "source": [
    "directory = 'data/Data/F1/mat'\n",
    "counter = 1\n",
    "UL_df, LL_df, JW_df, TD_df, TB_df, TT_df = [], [], [], [], [], []\n",
    "\n",
    "for filename in sorted(os.listdir(directory)):\n",
    "    if filename.endswith('.mat'):\n",
    "        f = os.path.join(directory, filename)\n",
    "        mat = scipy.io.loadmat(f)\n",
    "        # takes the data that is stored at the key that precedes the data for each .mat file\n",
    "        data = mat['usctimit_ema_f1_{:03}_{:03}'.format(counter, counter + 4)]\n",
    "        counter += 5\n",
    "\n",
    "        # make dataframes of the six positions\n",
    "        UL_df.append(pd.DataFrame.from_dict(data[0][1][2]))\n",
    "        LL_df.append(pd.DataFrame.from_dict(data[0][2][2]))\n",
    "        JW_df.append(pd.DataFrame.from_dict(data[0][3][2]))\n",
    "        TD_df.append(pd.DataFrame.from_dict(data[0][4][2]))\n",
    "        TB_df.append(pd.DataFrame.from_dict(data[0][5][2]))\n",
    "        TT_df.append(pd.DataFrame.from_dict(data[0][6][2]))"
   ]
  },
  {
   "cell_type": "code",
   "execution_count": 7,
   "id": "de3874a2-c6a3-4a7c-b1f2-121cd4abb793",
   "metadata": {},
   "outputs": [],
   "source": [
    "frames = {}\n",
    "word_number = 0\n",
    "\n",
    "with open('timestamps.txt', 'r') as file:\n",
    "    timestamps = file.read().splitlines()\n",
    "    for line in timestamps:\n",
    "        split_line = line.split(',')\n",
    "        sent_number = int(split_line[-1])\n",
    "        \n",
    "        # find start and end by multiplying the timestamps with the sampling rate\n",
    "        starting_point = math.floor(float(split_line[2]) * get_srate(int(split_line[0])))\n",
    "        end_point = math.ceil(float(split_line[3]) * get_srate(int(split_line[0])))\n",
    "        \n",
    "        # make dataframe for each word, so 3481 dataframes\n",
    "        data = {'word' : [split_line[1]],\n",
    "                'srate': [get_srate(int(split_line[0]))],\n",
    "                'sent' : [int(split_line[-1])],\n",
    "                'ULx'  : [get_pos_list('UL', 'x', int(split_line[0]), starting_point, end_point)],\n",
    "                'ULy'  : [get_pos_list('UL', 'y', int(split_line[0]), starting_point, end_point)],\n",
    "                'LLx'  : [get_pos_list('LL', 'x', int(split_line[0]), starting_point, end_point)],\n",
    "                'LLy'  : [get_pos_list('LL', 'y', int(split_line[0]), starting_point, end_point)],\n",
    "                'JWx'  : [get_pos_list('JW', 'x', int(split_line[0]), starting_point, end_point)],\n",
    "                'JWy'  : [get_pos_list('JW', 'y', int(split_line[0]), starting_point, end_point)],\n",
    "                'TDx'  : [get_pos_list('TD', 'x', int(split_line[0]), starting_point, end_point)],\n",
    "                'TDy'  : [get_pos_list('TD', 'y', int(split_line[0]), starting_point, end_point)],\n",
    "                'TBx'  : [get_pos_list('TB', 'x', int(split_line[0]), starting_point, end_point)],\n",
    "                'TBy'  : [get_pos_list('TB', 'y', int(split_line[0]), starting_point, end_point)],\n",
    "                'TTx'  : [get_pos_list('TT', 'x', int(split_line[0]), starting_point, end_point)],\n",
    "                'TTy'  : [get_pos_list('TT', 'y', int(split_line[0]), starting_point, end_point)]}\n",
    "        \n",
    "        df = pd.DataFrame(data)\n",
    "        frames[word_number] = df\n",
    "        word_number += 1"
   ]
  },
  {
   "cell_type": "code",
   "execution_count": 32,
   "id": "fda75b93-b5e1-40c2-9116-074ff85d7a10",
   "metadata": {},
   "outputs": [],
   "source": [
    "word_instances = {}\n",
    "\n",
    "for frame in frames:\n",
    "    if frames[frame]['word'][0] in word_instances:\n",
    "        continue\n",
    "    \n",
    "    word_instances[frames[frame]['word'][0]] = get_key(frames[frame]['word'][0], frames)"
   ]
  },
  {
   "cell_type": "code",
   "execution_count": 30,
   "id": "b53032d7-ac3f-477b-8f75-12b788162eeb",
   "metadata": {},
   "outputs": [
    {
     "name": "stderr",
     "output_type": "stream",
     "text": [
      "/Users/evankemmer/opt/anaconda3/lib/python3.9/site-packages/tslearn/barycenters/softdtw.py:103: VisibleDeprecationWarning: Creating an ndarray from ragged nested sequences (which is a list-or-tuple of lists-or-tuples-or ndarrays with different lengths or shapes) is deprecated. If you meant to do this, you must specify 'dtype=object' when creating the ndarray.\n",
      "  X_ = numpy.array([to_time_series(d, remove_nans=True) for d in X_])\n"
     ]
    },
    {
     "data": {
      "image/png": "[encoded data removed]",
      "text/plain": [
       "<Figure size 432x288 with 1 Axes>"
      ]
     },
     "metadata": {
      "needs_background": "light"
     },
     "output_type": "display_data"
    }
   ],
   "source": [
    "# find the average of two instances of the word 'project'\n",
    "dtw_project = softdtw_barycenter([frames[537]['ULx'][0], frames[1378]['ULx'][0]], gamma=1)\n",
    "\n",
    "plt.plot(frames[537 ]['ULx'][0], label = '537')\n",
    "plt.plot(frames[1378]['ULx'][0], label = '1378')\n",
    "plt.plot(dtw_project, label = 'dtw')\n",
    "         \n",
    "plt.legend()\n",
    "plt.show()"
   ]
  },
  {
   "cell_type": "code",
   "execution_count": null,
   "id": "a29af332-ccd5-48f3-88f8-bcdfaaf79c98",
   "metadata": {},
   "outputs": [],
   "source": []
  },
  {
   "cell_type": "code",
   "execution_count": null,
   "id": "7c0bf782-37cd-4621-8311-41663bec0168",
   "metadata": {},
   "outputs": [],
   "source": []
  },
  {
   "cell_type": "code",
   "execution_count": null,
   "id": "29030aa9-b301-4df5-a5bd-1f66e949b535",
   "metadata": {},
   "outputs": [],
   "source": []
  }
 ],
 "metadata": {
  "kernelspec": {
   "display_name": "Python 3 (ipykernel)",
   "language": "python",
   "name": "python3"
  },
  "language_info": {
   "codemirror_mode": {
    "name": "ipython",
    "version": 3
   },
   "file_extension": ".py",
   "mimetype": "text/x-python",
   "name": "python",
   "nbconvert_exporter": "python",
   "pygments_lexer": "ipython3",
   "version": "3.9.7"
  }
 },
 "nbformat": 4,
 "nbformat_minor": 5
}
