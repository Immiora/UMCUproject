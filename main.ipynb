{
 "cells": [
  {
   "cell_type": "code",
   "execution_count": 1,
   "id": "3077b706-716c-493b-9959-21e17fe482da",
   "metadata": {},
   "outputs": [],
   "source": [
    "import scipy.io, math, os\n",
    "import pandas as pd, numpy as np\n",
    "import matplotlib.pyplot as plt\n",
    "import matplotlib.animation as FuncAnimation\n",
    "from mpl_toolkits.mplot3d import Axes3D"
   ]
  },
  {
   "cell_type": "code",
   "execution_count": 8,
   "id": "3d5dc3f2-b91e-4d3f-8bdb-2dd755b7981a",
   "metadata": {},
   "outputs": [],
   "source": [
    "from tslearn.barycenters import \\\n",
    "    euclidean_barycenter, \\\n",
    "    dtw_barycenter_averaging, \\\n",
    "    dtw_barycenter_averaging_subgradient, \\\n",
    "    softdtw_barycenter\n",
    "from tslearn.datasets import CachedDatasets"
   ]
  },
  {
   "cell_type": "code",
   "execution_count": 4,
   "id": "81dc9beb-a98f-4b0b-8931-dbb62a6f9a69",
   "metadata": {},
   "outputs": [],
   "source": [
    "def get_srate(file_number): # can create a utils.py or a utils directory and imports utility functions from there (especially if you reuse them across notebooks/scripts)\n",
    "    directory = 'data/Data/F1/mat'\n",
    "    \n",
    "    # still needs to ignore the .DS_Store file in a better way\n",
    "    file = sorted(os.listdir(directory))[file_number + 1]\n",
    "    \n",
    "    f = os.path.join(directory, file)\n",
    "    mat = scipy.io.loadmat(f)['usctimit_ema_f1_{:03}_{:03}'.format(file_number*5 + 1, file_number*5 + 5)]\n",
    "    \n",
    "    #returns the srate which is stored here\n",
    "    return mat[0][1][1][0][0]"
   ]
  },
  {
   "cell_type": "code",
   "execution_count": 7,
   "id": "225f82a6-93b1-4aeb-be5e-7f659aacd0f6",
   "metadata": {},
   "outputs": [],
   "source": [
    "def get_pos_list(position, file_number, starting_point, end_point):\n",
    "    xyz_list = []\n",
    "\n",
    "    if position == 'UL':\n",
    "        for i in range(end_point - starting_point):\n",
    "            coordinate = (UL_df[file_number][0][starting_point + i],\n",
    "                          UL_df[file_number][1][starting_point + i],\n",
    "                          UL_df[file_number][2][starting_point + i])\n",
    "\n",
    "            xyz_list.append(coordinate)\n",
    "            \n",
    "    if position == 'LL':\n",
    "        for i in range(end_point - starting_point):\n",
    "            coordinate = (LL_df[file_number][0][starting_point + i],\n",
    "                          LL_df[file_number][1][starting_point + i],\n",
    "                          LL_df[file_number][2][starting_point + i])\n",
    "\n",
    "            xyz_list.append(coordinate)\n",
    "            \n",
    "    if position == 'JW':\n",
    "        for i in range(end_point - starting_point):\n",
    "            coordinate = (JW_df[file_number][0][starting_point + i],\n",
    "                          JW_df[file_number][1][starting_point + i],\n",
    "                          JW_df[file_number][2][starting_point + i])\n",
    "\n",
    "            xyz_list.append(coordinate)\n",
    "            \n",
    "    if position == 'TB':\n",
    "        for i in range(end_point - starting_point):\n",
    "            coordinate = (TB_df[file_number][0][starting_point + i],\n",
    "                          TB_df[file_number][1][starting_point + i],\n",
    "                          TB_df[file_number][2][starting_point + i])\n",
    "\n",
    "            xyz_list.append(coordinate)\n",
    "            \n",
    "    if position == 'TD':\n",
    "        for i in range(end_point - starting_point):\n",
    "            coordinate = (TD_df[file_number][0][starting_point + i],\n",
    "                          TD_df[file_number][1][starting_point + i],\n",
    "                          TD_df[file_number][2][starting_point + i])\n",
    "\n",
    "            xyz_list.append(coordinate)\n",
    "            \n",
    "    if position == 'TT':\n",
    "        for i in range(end_point - starting_point):\n",
    "            coordinate = (TT_df[file_number][0][starting_point + i],\n",
    "                          TT_df[file_number][1][starting_point + i],\n",
    "                          TT_df[file_number][2][starting_point + i])\n",
    "\n",
    "            xyz_list.append(coordinate)\n",
    "        \n",
    "    return xyz_list"
   ]
  },
  {
   "cell_type": "code",
   "execution_count": 5,
   "id": "97aa87eb-a278-457f-89c5-730887fa1eaa",
   "metadata": {},
   "outputs": [],
   "source": [
    "directory = 'data/Data/F1/mat'\n",
    "counter = 1\n",
    "UL_df, LL_df, JW_df, TD_df, TB_df, TT_df = [], [], [], [], [], []\n",
    "\n",
    "for filename in sorted(os.listdir(directory)):\n",
    "    if filename.endswith('.mat'):\n",
    "        f = os.path.join(directory, filename)\n",
    "        mat = scipy.io.loadmat(f)\n",
    "        # takes the data that is stored at the key that precedes the data for each .mat file\n",
    "        data = mat['usctimit_ema_f1_{:03}_{:03}'.format(counter, counter + 4)]\n",
    "        counter += 5\n",
    "\n",
    "        # make dataframes of the six positions\n",
    "        UL_df.append(pd.DataFrame.from_dict(data[0][1][2]))\n",
    "        LL_df.append(pd.DataFrame.from_dict(data[0][2][2]))\n",
    "        JW_df.append(pd.DataFrame.from_dict(data[0][3][2]))\n",
    "        TD_df.append(pd.DataFrame.from_dict(data[0][4][2]))\n",
    "        TB_df.append(pd.DataFrame.from_dict(data[0][5][2]))\n",
    "        TT_df.append(pd.DataFrame.from_dict(data[0][6][2]))"
   ]
  },
  {
   "cell_type": "code",
   "execution_count": 8,
   "id": "7c7512c8-ae24-44fb-817f-85d3965a4cce",
   "metadata": {},
   "outputs": [],
   "source": [
    "frames = {}\n",
    "word_number = 0\n",
    "\n",
    "with open('timestamps.txt', 'r') as file:\n",
    "    timestamps = file.read().splitlines()\n",
    "    for line in timestamps:\n",
    "        split_line = line.split(',')\n",
    "        sent_number = int(split_line[-1])\n",
    "        \n",
    "        # find start and end by multiplying the timestamps with the sampling rate\n",
    "        starting_point = math.floor(float(split_line[2]) * get_srate(int(split_line[0])))\n",
    "        end_point = math.ceil(float(split_line[3]) * get_srate(int(split_line[0])))\n",
    "        \n",
    "        # make dataframe for each word, so 3481 dataframes\n",
    "        data = {'word' : [split_line[1]],\n",
    "                'srate': [get_srate(int(split_line[0]))],\n",
    "                'sent' : [int(split_line[-1])],\n",
    "                'UL'   : [get_pos_list('UL', int(split_line[0]), starting_point, end_point)],\n",
    "                'LL'   : [get_pos_list('LL', int(split_line[0]), starting_point, end_point)],\n",
    "                'JW'   : [get_pos_list('JW', int(split_line[0]), starting_point, end_point)],\n",
    "                'TD'   : [get_pos_list('TD', int(split_line[0]), starting_point, end_point)],\n",
    "                'TB'   : [get_pos_list('TB', int(split_line[0]), starting_point, end_point)],\n",
    "                'TT'   : [get_pos_list('TT', int(split_line[0]), starting_point, end_point)]}\n",
    "        \n",
    "        df = pd.DataFrame(data)\n",
    "        frames[word_number] = df\n",
    "        word_number += 1"
   ]
  },
  {
   "cell_type": "code",
   "execution_count": 10,
   "id": "0c7cff9b-bb3c-4690-868c-e1c4d8abd250",
   "metadata": {},
   "outputs": [],
   "source": [
    "def get_key(val, dictionary):\n",
    "    instances = []\n",
    "    \n",
    "    # retrieves the numbers of the instances of the word we are looking for in a list\n",
    "    for key, value in dictionary.items():\n",
    "        if val == value['word'][0]:\n",
    "            instances.append(key)\n",
    "    \n",
    "    return instances"
   ]
  },
  {
   "cell_type": "code",
   "execution_count": 11,
   "id": "a2fc7b49-c66c-452f-bad5-cbfdd0d9df0b",
   "metadata": {},
   "outputs": [],
   "source": [
    "word_instances = {}\n",
    "\n",
    "for frame in frames:\n",
    "    if frames[frame]['word'][0] in word_instances:\n",
    "        continue\n",
    "    \n",
    "    word_instances[frames[frame]['word'][0]] = get_key(frames[frame]['word'][0], frames)"
   ]
  },
  {
   "cell_type": "code",
   "execution_count": 12,
   "id": "32739757-008b-483c-aa44-6566920adfd8",
   "metadata": {},
   "outputs": [
    {
     "data": {
      "text/plain": [
       "[0, 1018, 1184, 1516, 1818, 1845, 2342, 2398, 2583, 2825, 3001, 3069, 3313]"
      ]
     },
     "execution_count": 12,
     "metadata": {},
     "output_type": "execute_result"
    }
   ],
   "source": [
    "word_instances['this']"
   ]
  },
  {
   "cell_type": "code",
   "execution_count": 13,
   "id": "0ae23429-ed22-4b61-be04-229504aebf3b",
   "metadata": {},
   "outputs": [],
   "source": [
    "def make_trajectory_plot(word_dataframe, fixed_axes=False, twoD=False):\n",
    "    \n",
    "    x_UL, y_UL, z_UL = [], [], []\n",
    "    for coordinate in word_dataframe['UL'][0]:\n",
    "        x_UL.append(coordinate[0])\n",
    "        y_UL.append(coordinate[1])\n",
    "        z_UL.append(coordinate[2])\n",
    "    \n",
    "    x_LL, y_LL, z_LL = [], [], []\n",
    "    for coordinate in word_dataframe['LL'][0]:\n",
    "        x_LL.append(coordinate[0])\n",
    "        y_LL.append(coordinate[1])\n",
    "        z_LL.append(coordinate[2])\n",
    "        \n",
    "    x_JW, y_JW, z_JW = [], [], []\n",
    "    for coordinate in word_dataframe['JW'][0]:\n",
    "        x_JW.append(coordinate[0])\n",
    "        y_JW.append(coordinate[1])\n",
    "        z_JW.append(coordinate[2])\n",
    "        \n",
    "    x_TB, y_TB, z_TB = [], [], []\n",
    "    for coordinate in word_dataframe['TB'][0]:\n",
    "        x_TB.append(coordinate[0])\n",
    "        y_TB.append(coordinate[1])\n",
    "        z_TB.append(coordinate[2])\n",
    "        \n",
    "    x_TD, y_TD, z_TD = [], [], []\n",
    "    for coordinate in word_dataframe['TD'][0]:\n",
    "        x_TD.append(coordinate[0])\n",
    "        y_TD.append(coordinate[1])\n",
    "        z_TD.append(coordinate[2])\n",
    "        \n",
    "    x_TT, y_TT, z_TT = [], [], []\n",
    "    for coordinate in word_dataframe['TT'][0]:\n",
    "        x_TT.append(coordinate[0])\n",
    "        y_TT.append(coordinate[1])\n",
    "        z_TT.append(coordinate[2])\n",
    "    \n",
    "    # makes all the axis this size, currently \n",
    "    if fixed_axes:\n",
    "        ax.set_xlim3d(  13,  15)\n",
    "        ax.set_ylim3d( -72, -67)\n",
    "        ax.set_zlim3d(-2.5, 2.5)\n",
    "    \n",
    "    if not twoD:\n",
    "        fig = plt.figure()\n",
    "        ax = fig.add_subplot(111, projection='3d')\n",
    "        \n",
    "        ax.plot3D(x_UL, y_UL, z_UL, label = 'UL')\n",
    "        ax.plot3D(x_LL, y_LL, z_LL, label = 'LL')\n",
    "        ax.plot3D(x_JW, y_JW, z_JW, label = 'JW')\n",
    "        ax.plot3D(x_TB, y_TB, z_TB, label = 'TB')\n",
    "        ax.plot3D(x_TD, y_TD, z_TD, label = 'TD')\n",
    "        ax.plot3D(x_TT, y_TT, z_TT, label = 'TT')\n",
    "        \n",
    "    if twoD:\n",
    "        plt.plot(x_UL, y_UL, label = 'UL')\n",
    "        plt.plot(x_LL, y_LL, label = 'LL')\n",
    "        plt.plot(x_JW, y_JW, label = 'JW')\n",
    "        plt.plot(x_TB, y_TB, label = 'TB')\n",
    "        plt.plot(x_TD, y_TD, label = 'TD')\n",
    "        plt.plot(x_TT, y_TT, label = 'TT')\n",
    "    \n",
    "    plt.legend(loc = 'lower left')\n",
    "    plt.title(str(word_dataframe['word'][0]) + ', ' + str(word_dataframe['sent'][0]))\n",
    "    plt.show()"
   ]
  },
  {
   "cell_type": "code",
   "execution_count": 48,
   "id": "fbb74dcc-4eb1-4b49-9a83-bf40a1ab802c",
   "metadata": {},
   "outputs": [
    {
     "data": {
      "text/plain": [
       "the        216\n",
       "a           95\n",
       "in          56\n",
       "to          53\n",
       "and         49\n",
       "is          45\n",
       "of          39\n",
       "for         36\n",
       "are         34\n",
       "you         33\n",
       "was         26\n",
       "on          23\n",
       "with        23\n",
       "be          21\n",
       "from        18\n",
       "her         16\n",
       "by          15\n",
       "your        15\n",
       "i           15\n",
       "will        14\n",
       "this        13\n",
       "his         13\n",
       "an          13\n",
       "have        13\n",
       "that        13\n",
       "as          13\n",
       "not         12\n",
       "all         12\n",
       "do          11\n",
       "every       10\n",
       "my          10\n",
       "big         10\n",
       "each        10\n",
       "they         9\n",
       "can          9\n",
       "we           9\n",
       "at           8\n",
       "new          8\n",
       "their        8\n",
       "often        8\n",
       "may          8\n",
       "she          8\n",
       "much         7\n",
       "only         7\n",
       "allow        7\n",
       "through      6\n",
       "up           6\n",
       "many         6\n",
       "out          6\n",
       "when         6\n",
       "Name: 0, dtype: int64"
      ]
     },
     "execution_count": 48,
     "metadata": {},
     "output_type": "execute_result"
    }
   ],
   "source": [
    "pd.DataFrame([w['word'][0] for w in frames.values()])[0].value_counts()[:50]"
   ]
  },
  {
   "cell_type": "code",
   "execution_count": 49,
   "id": "efb5826c-2088-4feb-850e-d9d7122118ee",
   "metadata": {},
   "outputs": [
    {
     "data": {
      "text/plain": [
       "[207, 1140, 1144, 2173, 2873, 2975, 3080, 3256]"
      ]
     },
     "execution_count": 49,
     "metadata": {},
     "output_type": "execute_result"
    }
   ],
   "source": [
    "word_instances['often']"
   ]
  },
  {
   "cell_type": "code",
   "execution_count": 19,
   "id": "c746d3d2-f3c3-45d7-9f9f-4e87f15e1003",
   "metadata": {},
   "outputs": [
    {
     "data": {
      "text/html": [
       "<div>\n",
       "<style scoped>\n",
       "    .dataframe tbody tr th:only-of-type {\n",
       "        vertical-align: middle;\n",
       "    }\n",
       "\n",
       "    .dataframe tbody tr th {\n",
       "        vertical-align: top;\n",
       "    }\n",
       "\n",
       "    .dataframe thead th {\n",
       "        text-align: right;\n",
       "    }\n",
       "</style>\n",
       "<table border=\"1\" class=\"dataframe\">\n",
       "  <thead>\n",
       "    <tr style=\"text-align: right;\">\n",
       "      <th></th>\n",
       "      <th>word</th>\n",
       "      <th>srate</th>\n",
       "      <th>sent</th>\n",
       "      <th>UL</th>\n",
       "      <th>LL</th>\n",
       "      <th>JW</th>\n",
       "      <th>TD</th>\n",
       "      <th>TB</th>\n",
       "      <th>TT</th>\n",
       "    </tr>\n",
       "  </thead>\n",
       "  <tbody>\n",
       "    <tr>\n",
       "      <th>0</th>\n",
       "      <td>project</td>\n",
       "      <td>100.081953</td>\n",
       "      <td>85</td>\n",
       "      <td>[(13.761367615580767, -56.50633188469287, 0.54...</td>\n",
       "      <td>[(14.009899558413288, -67.76913310824483, -1.6...</td>\n",
       "      <td>[(-1.6174819536353198, -79.6050789235324, 3.81...</td>\n",
       "      <td>[(-47.690160039474236, -57.33097640630458, 0.2...</td>\n",
       "      <td>[(-36.48769662540414, -53.88565686659598, 0.68...</td>\n",
       "      <td>[(-28.718666971072356, -56.79234153527295, -2....</td>\n",
       "    </tr>\n",
       "  </tbody>\n",
       "</table>\n",
       "</div>"
      ],
      "text/plain": [
       "      word       srate  sent  \\\n",
       "0  project  100.081953    85   \n",
       "\n",
       "                                                  UL  \\\n",
       "0  [(13.761367615580767, -56.50633188469287, 0.54...   \n",
       "\n",
       "                                                  LL  \\\n",
       "0  [(14.009899558413288, -67.76913310824483, -1.6...   \n",
       "\n",
       "                                                  JW  \\\n",
       "0  [(-1.6174819536353198, -79.6050789235324, 3.81...   \n",
       "\n",
       "                                                  TD  \\\n",
       "0  [(-47.690160039474236, -57.33097640630458, 0.2...   \n",
       "\n",
       "                                                  TB  \\\n",
       "0  [(-36.48769662540414, -53.88565686659598, 0.68...   \n",
       "\n",
       "                                                  TT  \n",
       "0  [(-28.718666971072356, -56.79234153527295, -2....  "
      ]
     },
     "execution_count": 19,
     "metadata": {},
     "output_type": "execute_result"
    }
   ],
   "source": [
    "frames[537]"
   ]
  },
  {
   "cell_type": "code",
   "execution_count": 57,
   "id": "2a49e569-edd0-44ee-aa2b-03e1182d1695",
   "metadata": {},
   "outputs": [
    {
     "data": {
      "image/png": "[encoded data removed]",
      "text/plain": [
       "<Figure size 432x288 with 1 Axes>"
      ]
     },
     "metadata": {
      "needs_background": "light"
     },
     "output_type": "display_data"
    }
   ],
   "source": [
    "make_trajectory_plot(frames[207], fixed_axes=False, twoD=True)"
   ]
  },
  {
   "cell_type": "code",
   "execution_count": 56,
   "id": "5cfd1096-c886-4baf-84dd-1243193e2e1f",
   "metadata": {},
   "outputs": [
    {
     "data": {
      "image/png": "[encoded data removed]",
      "text/plain": [
       "<Figure size 432x288 with 1 Axes>"
      ]
     },
     "metadata": {
      "needs_background": "light"
     },
     "output_type": "display_data"
    }
   ],
   "source": [
    "make_trajectory_plot(frames[1140], fixed_axes=False, twoD=True)"
   ]
  },
  {
   "cell_type": "code",
   "execution_count": 53,
   "id": "55ced8a4-3a5c-4221-8df3-c8c5b78108d7",
   "metadata": {},
   "outputs": [
    {
     "data": {
      "image/png": "[encoded data removed]",
      "text/plain": [
       "<Figure size 432x288 with 1 Axes>"
      ]
     },
     "metadata": {
      "needs_background": "light"
     },
     "output_type": "display_data"
    }
   ],
   "source": [
    "make_trajectory_plot(frames[782], fixed_axes=False, twoD=True)"
   ]
  }
 ],
 "metadata": {
  "kernelspec": {
   "display_name": "Python 3 (ipykernel)",
   "language": "python",
   "name": "python3"
  },
  "language_info": {
   "codemirror_mode": {
    "name": "ipython",
    "version": 3
   },
   "file_extension": ".py",
   "mimetype": "text/x-python",
   "name": "python",
   "nbconvert_exporter": "python",
   "pygments_lexer": "ipython3",
   "version": "3.8.5"
  }
 },
 "nbformat": 4,
 "nbformat_minor": 5
}
